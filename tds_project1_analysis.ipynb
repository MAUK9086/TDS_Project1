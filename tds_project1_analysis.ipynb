{
 "cells": [
  {
   "cell_type": "code",
   "execution_count": 1,
   "metadata": {},
   "outputs": [
    {
     "name": "stdout",
     "output_type": "stream",
     "text": [
      "Users DataFrame:\n"
     ]
    },
    {
     "data": {
      "text/html": [
       "<div>\n",
       "<style scoped>\n",
       "    .dataframe tbody tr th:only-of-type {\n",
       "        vertical-align: middle;\n",
       "    }\n",
       "\n",
       "    .dataframe tbody tr th {\n",
       "        vertical-align: top;\n",
       "    }\n",
       "\n",
       "    .dataframe thead th {\n",
       "        text-align: right;\n",
       "    }\n",
       "</style>\n",
       "<table border=\"1\" class=\"dataframe\">\n",
       "  <thead>\n",
       "    <tr style=\"text-align: right;\">\n",
       "      <th></th>\n",
       "      <th>login</th>\n",
       "      <th>name</th>\n",
       "      <th>company</th>\n",
       "      <th>location</th>\n",
       "      <th>email</th>\n",
       "      <th>hireable</th>\n",
       "      <th>bio</th>\n",
       "      <th>public_repos</th>\n",
       "      <th>followers</th>\n",
       "      <th>following</th>\n",
       "      <th>created_at</th>\n",
       "    </tr>\n",
       "  </thead>\n",
       "  <tbody>\n",
       "    <tr>\n",
       "      <th>0</th>\n",
       "      <td>huggingface</td>\n",
       "      <td>Hugging Face</td>\n",
       "      <td>NaN</td>\n",
       "      <td>NYC + Paris</td>\n",
       "      <td>NaN</td>\n",
       "      <td>False</td>\n",
       "      <td>The AI community building the future.</td>\n",
       "      <td>261</td>\n",
       "      <td>38254</td>\n",
       "      <td>0</td>\n",
       "      <td>2017-02-12T11:20:28Z</td>\n",
       "    </tr>\n",
       "    <tr>\n",
       "      <th>1</th>\n",
       "      <td>brunosimon</td>\n",
       "      <td>Bruno Simon</td>\n",
       "      <td>CREATIVE JOURNEY</td>\n",
       "      <td>Paris</td>\n",
       "      <td>NaN</td>\n",
       "      <td>True</td>\n",
       "      <td>NaN</td>\n",
       "      <td>79</td>\n",
       "      <td>18766</td>\n",
       "      <td>0</td>\n",
       "      <td>2013-09-11T23:44:41Z</td>\n",
       "    </tr>\n",
       "    <tr>\n",
       "      <th>2</th>\n",
       "      <td>fabpot</td>\n",
       "      <td>Fabien Potencier</td>\n",
       "      <td>SYMFONY/PLATFORM.SH/BLACKFIRE</td>\n",
       "      <td>Paris, France</td>\n",
       "      <td>fabien@symfony.com</td>\n",
       "      <td>False</td>\n",
       "      <td>Founder and project lead at Symfony\\r\\nCPO at ...</td>\n",
       "      <td>77</td>\n",
       "      <td>13245</td>\n",
       "      <td>0</td>\n",
       "      <td>2009-01-17T13:42:51Z</td>\n",
       "    </tr>\n",
       "    <tr>\n",
       "      <th>3</th>\n",
       "      <td>Charles-Chrismann</td>\n",
       "      <td>Charles Chrismann</td>\n",
       "      <td>INSTITUT DE L'INTERNET ET DU MULTIMÉDIA (IIM)</td>\n",
       "      <td>Paris, La Défense</td>\n",
       "      <td>NaN</td>\n",
       "      <td>False</td>\n",
       "      <td>Étudiant en 3e année de Développement Web à l'...</td>\n",
       "      <td>35</td>\n",
       "      <td>12117</td>\n",
       "      <td>218312</td>\n",
       "      <td>2021-01-28T14:18:01Z</td>\n",
       "    </tr>\n",
       "    <tr>\n",
       "      <th>4</th>\n",
       "      <td>posva</td>\n",
       "      <td>Eduardo San Martin Morote</td>\n",
       "      <td>FREELANCE</td>\n",
       "      <td>Paris</td>\n",
       "      <td>NaN</td>\n",
       "      <td>True</td>\n",
       "      <td>Member of the @vuejs core team\\r\\nSpeaker, tra...</td>\n",
       "      <td>323</td>\n",
       "      <td>5900</td>\n",
       "      <td>58</td>\n",
       "      <td>2011-03-11T14:29:46Z</td>\n",
       "    </tr>\n",
       "  </tbody>\n",
       "</table>\n",
       "</div>"
      ],
      "text/plain": [
       "               login                       name  \\\n",
       "0        huggingface               Hugging Face   \n",
       "1         brunosimon                Bruno Simon   \n",
       "2             fabpot           Fabien Potencier   \n",
       "3  Charles-Chrismann          Charles Chrismann   \n",
       "4              posva  Eduardo San Martin Morote   \n",
       "\n",
       "                                         company           location  \\\n",
       "0                                            NaN        NYC + Paris   \n",
       "1                               CREATIVE JOURNEY              Paris   \n",
       "2                  SYMFONY/PLATFORM.SH/BLACKFIRE      Paris, France   \n",
       "3  INSTITUT DE L'INTERNET ET DU MULTIMÉDIA (IIM)  Paris, La Défense   \n",
       "4                                      FREELANCE             Paris    \n",
       "\n",
       "                email  hireable  \\\n",
       "0                 NaN     False   \n",
       "1                 NaN      True   \n",
       "2  fabien@symfony.com     False   \n",
       "3                 NaN     False   \n",
       "4                 NaN      True   \n",
       "\n",
       "                                                 bio  public_repos  followers  \\\n",
       "0              The AI community building the future.           261      38254   \n",
       "1                                                NaN            79      18766   \n",
       "2  Founder and project lead at Symfony\\r\\nCPO at ...            77      13245   \n",
       "3  Étudiant en 3e année de Développement Web à l'...            35      12117   \n",
       "4  Member of the @vuejs core team\\r\\nSpeaker, tra...           323       5900   \n",
       "\n",
       "   following            created_at  \n",
       "0          0  2017-02-12T11:20:28Z  \n",
       "1          0  2013-09-11T23:44:41Z  \n",
       "2          0  2009-01-17T13:42:51Z  \n",
       "3     218312  2021-01-28T14:18:01Z  \n",
       "4         58  2011-03-11T14:29:46Z  "
      ]
     },
     "metadata": {},
     "output_type": "display_data"
    },
    {
     "name": "stdout",
     "output_type": "stream",
     "text": [
      "Users DataFrame Info:\n",
      "<class 'pandas.core.frame.DataFrame'>\n",
      "RangeIndex: 383 entries, 0 to 382\n",
      "Data columns (total 11 columns):\n",
      " #   Column        Non-Null Count  Dtype \n",
      "---  ------        --------------  ----- \n",
      " 0   login         383 non-null    object\n",
      " 1   name          378 non-null    object\n",
      " 2   company       255 non-null    object\n",
      " 3   location      383 non-null    object\n",
      " 4   email         195 non-null    object\n",
      " 5   hireable      383 non-null    bool  \n",
      " 6   bio           287 non-null    object\n",
      " 7   public_repos  383 non-null    int64 \n",
      " 8   followers     383 non-null    int64 \n",
      " 9   following     383 non-null    int64 \n",
      " 10  created_at    383 non-null    object\n",
      "dtypes: bool(1), int64(3), object(7)\n",
      "memory usage: 30.4+ KB\n"
     ]
    }
   ],
   "source": [
    "# Import necessary libraries\n",
    "import pandas as pd\n",
    "\n",
    "# Load CSV files into DataFrames\n",
    "users_df = pd.read_csv(\"users.csv\")\n",
    "\n",
    "\n",
    "# Display the first few rows of each DataFrame to verify they loaded correctly\n",
    "print(\"Users DataFrame:\")\n",
    "display(users_df.head())\n",
    "\n",
    "\n",
    "\n",
    "# Basic info about the data to check column names, types, and non-null counts\n",
    "print(\"Users DataFrame Info:\")\n",
    "users_df.info()\n",
    "\n",
    "\n"
   ]
  },
  {
   "cell_type": "code",
   "execution_count": 2,
   "metadata": {},
   "outputs": [
    {
     "name": "stdout",
     "output_type": "stream",
     "text": [
      "Repositories DataFrame:\n"
     ]
    },
    {
     "data": {
      "text/html": [
       "<div>\n",
       "<style scoped>\n",
       "    .dataframe tbody tr th:only-of-type {\n",
       "        vertical-align: middle;\n",
       "    }\n",
       "\n",
       "    .dataframe tbody tr th {\n",
       "        vertical-align: top;\n",
       "    }\n",
       "\n",
       "    .dataframe thead th {\n",
       "        text-align: right;\n",
       "    }\n",
       "</style>\n",
       "<table border=\"1\" class=\"dataframe\">\n",
       "  <thead>\n",
       "    <tr style=\"text-align: right;\">\n",
       "      <th></th>\n",
       "      <th>login</th>\n",
       "      <th>full_name</th>\n",
       "      <th>created_at</th>\n",
       "      <th>stargazers_count</th>\n",
       "      <th>watchers_count</th>\n",
       "      <th>language</th>\n",
       "      <th>has_projects</th>\n",
       "      <th>has_wiki</th>\n",
       "      <th>license_name</th>\n",
       "    </tr>\n",
       "  </thead>\n",
       "  <tbody>\n",
       "    <tr>\n",
       "      <th>0</th>\n",
       "      <td>huggingface</td>\n",
       "      <td>huggingface/diffusers</td>\n",
       "      <td>2022-05-30T16:04:02Z</td>\n",
       "      <td>25966</td>\n",
       "      <td>25966</td>\n",
       "      <td>Python</td>\n",
       "      <td>True</td>\n",
       "      <td>True</td>\n",
       "      <td>apache-2.0</td>\n",
       "    </tr>\n",
       "    <tr>\n",
       "      <th>1</th>\n",
       "      <td>huggingface</td>\n",
       "      <td>huggingface/transformers</td>\n",
       "      <td>2018-10-29T13:56:00Z</td>\n",
       "      <td>134255</td>\n",
       "      <td>134255</td>\n",
       "      <td>Python</td>\n",
       "      <td>True</td>\n",
       "      <td>True</td>\n",
       "      <td>apache-2.0</td>\n",
       "    </tr>\n",
       "    <tr>\n",
       "      <th>2</th>\n",
       "      <td>huggingface</td>\n",
       "      <td>huggingface/huggingface_hub</td>\n",
       "      <td>2020-12-22T10:20:28Z</td>\n",
       "      <td>2082</td>\n",
       "      <td>2082</td>\n",
       "      <td>Python</td>\n",
       "      <td>True</td>\n",
       "      <td>False</td>\n",
       "      <td>apache-2.0</td>\n",
       "    </tr>\n",
       "    <tr>\n",
       "      <th>3</th>\n",
       "      <td>huggingface</td>\n",
       "      <td>huggingface/datatrove</td>\n",
       "      <td>2023-06-14T12:05:28Z</td>\n",
       "      <td>2015</td>\n",
       "      <td>2015</td>\n",
       "      <td>Python</td>\n",
       "      <td>True</td>\n",
       "      <td>True</td>\n",
       "      <td>apache-2.0</td>\n",
       "    </tr>\n",
       "    <tr>\n",
       "      <th>4</th>\n",
       "      <td>huggingface</td>\n",
       "      <td>huggingface/hf-endpoints-documentation</td>\n",
       "      <td>2022-09-01T06:25:28Z</td>\n",
       "      <td>11</td>\n",
       "      <td>11</td>\n",
       "      <td>NaN</td>\n",
       "      <td>True</td>\n",
       "      <td>True</td>\n",
       "      <td>NaN</td>\n",
       "    </tr>\n",
       "  </tbody>\n",
       "</table>\n",
       "</div>"
      ],
      "text/plain": [
       "         login                               full_name            created_at  \\\n",
       "0  huggingface                   huggingface/diffusers  2022-05-30T16:04:02Z   \n",
       "1  huggingface                huggingface/transformers  2018-10-29T13:56:00Z   \n",
       "2  huggingface             huggingface/huggingface_hub  2020-12-22T10:20:28Z   \n",
       "3  huggingface                   huggingface/datatrove  2023-06-14T12:05:28Z   \n",
       "4  huggingface  huggingface/hf-endpoints-documentation  2022-09-01T06:25:28Z   \n",
       "\n",
       "   stargazers_count  watchers_count language  has_projects  has_wiki  \\\n",
       "0             25966           25966   Python          True      True   \n",
       "1            134255          134255   Python          True      True   \n",
       "2              2082            2082   Python          True     False   \n",
       "3              2015            2015   Python          True      True   \n",
       "4                11              11      NaN          True      True   \n",
       "\n",
       "  license_name  \n",
       "0   apache-2.0  \n",
       "1   apache-2.0  \n",
       "2   apache-2.0  \n",
       "3   apache-2.0  \n",
       "4          NaN  "
      ]
     },
     "metadata": {},
     "output_type": "display_data"
    },
    {
     "name": "stdout",
     "output_type": "stream",
     "text": [
      "\n",
      "Repositories DataFrame Info:\n",
      "<class 'pandas.core.frame.DataFrame'>\n",
      "RangeIndex: 37501 entries, 0 to 37500\n",
      "Data columns (total 9 columns):\n",
      " #   Column            Non-Null Count  Dtype \n",
      "---  ------            --------------  ----- \n",
      " 0   login             37501 non-null  object\n",
      " 1   full_name         37501 non-null  object\n",
      " 2   created_at        37501 non-null  object\n",
      " 3   stargazers_count  37501 non-null  int64 \n",
      " 4   watchers_count    37501 non-null  int64 \n",
      " 5   language          27972 non-null  object\n",
      " 6   has_projects      37501 non-null  bool  \n",
      " 7   has_wiki          37501 non-null  bool  \n",
      " 8   license_name      21036 non-null  object\n",
      "dtypes: bool(2), int64(2), object(5)\n",
      "memory usage: 2.1+ MB\n"
     ]
    }
   ],
   "source": [
    "repos_df = pd.read_csv(\"repositories.csv\")\n",
    "print(\"Repositories DataFrame:\")\n",
    "display(repos_df.head())\n",
    "\n",
    "print(\"\\nRepositories DataFrame Info:\")\n",
    "repos_df.info()"
   ]
  },
  {
   "cell_type": "code",
   "execution_count": 45,
   "metadata": {},
   "outputs": [
    {
     "data": {
      "text/plain": [
       "'huggingface,brunosimon,fabpot,Charles-Chrismann,posva'"
      ]
     },
     "execution_count": 45,
     "metadata": {},
     "output_type": "execute_result"
    }
   ],
   "source": [
    "#Q1\n",
    "\n",
    "# Filter users from Paris\n",
    "paris_users = users_df[users_df['location'].str.contains('Paris', case=False, na=False)]\n",
    "\n",
    "# Sort by followers and select the top 5\n",
    "top_paris_users = paris_users.nlargest(5, 'followers')\n",
    "\n",
    "# Get the logins of the top users, comma-separated\n",
    "top_paris_logins = ','.join(top_paris_users['login'])\n",
    "top_paris_logins\n"
   ]
  },
  {
   "cell_type": "code",
   "execution_count": 12,
   "metadata": {},
   "outputs": [
    {
     "data": {
      "text/plain": [
       "'sunny, nkallen, nono, tdd, luislavena'"
      ]
     },
     "execution_count": 12,
     "metadata": {},
     "output_type": "execute_result"
    }
   ],
   "source": [
    "#Q2\n",
    "\n",
    "\n",
    "# Convert created_at to datetime\n",
    "users_df['created_at'] = pd.to_datetime(users_df['created_at'])\n",
    "\n",
    "# Filter users from Paris and sort by created_at\n",
    "earliest_paris_users = users_df[users_df['location'].str.contains('Paris', case=False, na=False)].nsmallest(5, 'created_at')\n",
    "\n",
    "# Get the logins of the top users, comma-separated\n",
    "earliest_paris_logins = ','.join(earliest_paris_users['login'])\n",
    "earliest_paris_logins\n"
   ]
  },
  {
   "cell_type": "code",
   "execution_count": 46,
   "metadata": {},
   "outputs": [
    {
     "data": {
      "text/plain": [
       "'mit,apache-2.0,other'"
      ]
     },
     "execution_count": 46,
     "metadata": {},
     "output_type": "execute_result"
    }
   ],
   "source": [
    "#Q3\n",
    "\n",
    "# Filter users from Paris and get their logins\n",
    "paris_user_logins = users_df[users_df['location'].str.contains('Paris', case=False, na=False)]['login']\n",
    "\n",
    "# Filter repositories by the Paris user logins and drop missing license names\n",
    "popular_licenses_count = repos_df[repos_df['login'].isin(paris_user_logins)]['license_name'].dropna().value_counts()\n",
    "\n",
    "# Get the top 3 licenses\n",
    "top_licenses = popular_licenses_count.nlargest(3)\n",
    "\n",
    "# Get the license names, comma-separated\n",
    "popular_licenses = ','.join(top_licenses.index)\n",
    "popular_licenses\n"
   ]
  },
  {
   "cell_type": "code",
   "execution_count": 15,
   "metadata": {},
   "outputs": [
    {
     "data": {
      "text/plain": [
       "'HUGGINGFACE'"
      ]
     },
     "execution_count": 15,
     "metadata": {},
     "output_type": "execute_result"
    }
   ],
   "source": [
    "#Q4\n",
    "\n",
    "# Filter users from Paris and drop missing company names\n",
    "paris_users = users_df[users_df['location'].str.contains('Paris', case=False, na=False)]\n",
    "\n",
    "# Clean up the company names (if needed)\n",
    "paris_users['company'] = paris_users['company'].str.strip().str.replace('Inc', '').str.replace('LLC', '').str.replace('Corp', '')\n",
    "\n",
    "# Get the most common company\n",
    "most_common_company = paris_users['company'].mode()[0]\n",
    "most_common_company\n"
   ]
  },
  {
   "cell_type": "code",
   "execution_count": 17,
   "metadata": {},
   "outputs": [
    {
     "data": {
      "text/plain": [
       "'JavaScript'"
      ]
     },
     "execution_count": 17,
     "metadata": {},
     "output_type": "execute_result"
    }
   ],
   "source": [
    "#q5\n",
    "\n",
    "# Filter users from Paris and get their logins\n",
    "paris_user_logins = users_df[users_df['location'].str.contains('Paris', case=False, na=False)]['login']\n",
    "\n",
    "# Filter repositories by the Paris user logins and drop missing language entries\n",
    "popular_languages_count = repos_df[repos_df['login'].isin(paris_user_logins)]['language'].dropna().value_counts()\n",
    "\n",
    "# Get the most common programming language\n",
    "most_popular_language = popular_languages_count.idxmax()\n",
    "most_popular_language\n"
   ]
  },
  {
   "cell_type": "code",
   "execution_count": 18,
   "metadata": {},
   "outputs": [
    {
     "data": {
      "text/plain": [
       "'Python'"
      ]
     },
     "execution_count": 18,
     "metadata": {},
     "output_type": "execute_result"
    }
   ],
   "source": [
    "#Q6\n",
    "\n",
    "\n",
    "# Convert created_at to datetime\n",
    "users_df['created_at'] = pd.to_datetime(users_df['created_at'])\n",
    "\n",
    "# Filter users who joined after 2020\n",
    "new_users = users_df[users_df['created_at'] > '2020-01-01']\n",
    "\n",
    "# Get the logins of these users\n",
    "new_user_logins = new_users['login']\n",
    "\n",
    "# Filter repositories by the new user logins and drop missing language entries\n",
    "popular_languages_count = repos_df[repos_df['login'].isin(new_user_logins)]['language'].dropna().value_counts()\n",
    "\n",
    "# Get the second most common programming language\n",
    "second_most_popular_language = popular_languages_count.nlargest(2).index[1]\n",
    "second_most_popular_language\n"
   ]
  },
  {
   "cell_type": "code",
   "execution_count": 19,
   "metadata": {},
   "outputs": [
    {
     "data": {
      "text/plain": [
       "'Blade'"
      ]
     },
     "execution_count": 19,
     "metadata": {},
     "output_type": "execute_result"
    }
   ],
   "source": [
    "#Q7\n",
    "\n",
    "\n",
    "# Drop missing values in language and stargazers_count\n",
    "repo_languages = repos_df[['language', 'stargazers_count']].dropna()\n",
    "\n",
    "# Group by language and calculate the average number of stars\n",
    "average_stars_per_language = repo_languages.groupby('language')['stargazers_count'].mean()\n",
    "\n",
    "# Get the language with the highest average number of stars\n",
    "highest_average_language = average_stars_per_language.idxmax()\n",
    "highest_average_language\n",
    "\n"
   ]
  },
  {
   "cell_type": "code",
   "execution_count": 21,
   "metadata": {},
   "outputs": [
    {
     "data": {
      "text/plain": [
       "'huggingface,brunosimon,fabpot,lewagon,BartoszMilewski'"
      ]
     },
     "execution_count": 21,
     "metadata": {},
     "output_type": "execute_result"
    }
   ],
   "source": [
    "#Q8\n",
    "\n",
    "\n",
    "# Calculate leader_strength\n",
    "users_df['leader_strength'] = users_df['followers'] / (1 + users_df['following'])\n",
    "\n",
    "# Get the top 5 users by leader_strength\n",
    "top_leaders = users_df.nlargest(5, 'leader_strength')\n",
    "\n",
    "# Get the logins of the top users, comma-separated\n",
    "top_leader_logins = ','.join(top_leaders['login'])\n",
    "top_leader_logins\n",
    "\n",
    "\n"
   ]
  },
  {
   "cell_type": "code",
   "execution_count": 23,
   "metadata": {},
   "outputs": [
    {
     "data": {
      "text/plain": [
       "0.049"
      ]
     },
     "execution_count": 23,
     "metadata": {},
     "output_type": "execute_result"
    }
   ],
   "source": [
    "# Filter users from Paris\n",
    "paris_users = users_df[users_df['location'].str.contains('Paris', case=False, na=False)]\n",
    "\n",
    "# Merge Paris users with repositories to associate followers and public repos\n",
    "merged_data = pd.merge(paris_users[['login', 'followers', 'public_repos']], \n",
    "                        repos_df[['login', 'full_name']], \n",
    "                        on='login', \n",
    "                        how='inner')\n",
    "\n",
    "# Calculate the correlation between followers and public_repos\n",
    "correlation = merged_data['followers'].corr(merged_data['public_repos'])\n",
    "\n",
    "# Format the correlation to 3 decimal places\n",
    "formatted_correlation = round(correlation, 3)\n",
    "formatted_correlation\n"
   ]
  },
  {
   "cell_type": "code",
   "execution_count": 41,
   "metadata": {},
   "outputs": [
    {
     "name": "stdout",
     "output_type": "stream",
     "text": [
      "Regression slope of followers on repos: 1.846\n"
     ]
    }
   ],
   "source": [
    "import statsmodels.api as sm\n",
    "\n",
    "# Prepare the data by selecting relevant columns and dropping missing values\n",
    "data = users_df[['public_repos', 'followers']].dropna()\n",
    "\n",
    "# Define the independent variable (X) and dependent variable (y)\n",
    "X = data['public_repos']  # Independent variable\n",
    "y = data['followers']      # Dependent variable\n",
    "\n",
    "# Add a constant to the independent variable (for the intercept)\n",
    "X = sm.add_constant(X)\n",
    "\n",
    "# Fit the regression model\n",
    "model = sm.OLS(y, X).fit()\n",
    "\n",
    "# Get the regression slope (coefficient for public_repos)\n",
    "slope = model.params['public_repos']\n",
    "\n",
    "# Print the slope rounded to 3 decimal places\n",
    "print(f\"Regression slope of followers on repos: {slope:.3f}\")\n"
   ]
  },
  {
   "cell_type": "code",
   "execution_count": 43,
   "metadata": {},
   "outputs": [
    {
     "name": "stdout",
     "output_type": "stream",
     "text": [
      "       public_repos     followers\n",
      "count    378.000000    378.000000\n",
      "mean     101.058201    840.185185\n",
      "std      111.803099   2418.914320\n",
      "min        1.000000    201.000000\n",
      "25%       33.000000    259.000000\n",
      "50%       71.000000    353.000000\n",
      "75%      123.750000    686.250000\n",
      "max     1097.000000  38254.000000\n"
     ]
    }
   ],
   "source": [
    "print(users_df[['public_repos', 'followers']].describe())\n"
   ]
  },
  {
   "cell_type": "code",
   "execution_count": null,
   "metadata": {},
   "outputs": [],
   "source": [
    "#Q11\n",
    "\n",
    "\n",
    "\n"
   ]
  },
  {
   "cell_type": "code",
   "execution_count": null,
   "metadata": {},
   "outputs": [],
   "source": []
  },
  {
   "cell_type": "code",
   "execution_count": 48,
   "metadata": {},
   "outputs": [
    {
     "name": "stdout",
     "output_type": "stream",
     "text": [
      "Difference in average following (hireable - non-hireable): -870.078\n"
     ]
    }
   ],
   "source": [
    "# Calculate the average following for hireable users\n",
    "hireable_avg = users_df[users_df['hireable'] == True]['following'].mean()\n",
    "\n",
    "# Calculate the average following for non-hireable users\n",
    "non_hireable_avg = users_df[users_df['hireable'] == False]['following'].mean()\n",
    "\n",
    "# Calculate the difference\n",
    "average_difference = hireable_avg - non_hireable_avg\n",
    "\n",
    "# Print the result rounded to 3 decimal places\n",
    "print(f\"Difference in average following (hireable - non-hireable): {average_difference:.3f}\")\n"
   ]
  },
  {
   "cell_type": "code",
   "execution_count": null,
   "metadata": {},
   "outputs": [],
   "source": [
    "#Q13\n",
    "\n",
    "\n",
    "\n",
    "\n",
    "\n",
    "\n"
   ]
  },
  {
   "cell_type": "code",
   "execution_count": 24,
   "metadata": {},
   "outputs": [
    {
     "data": {
      "text/plain": [
       "'MysteriousSonOfGod,rishistyping,vincentbernat,gre,KOUISAmine'"
      ]
     },
     "execution_count": 24,
     "metadata": {},
     "output_type": "execute_result"
    }
   ],
   "source": [
    "#Q14\n",
    "\n",
    "\n",
    "# Convert created_at to datetime\n",
    "repos_df['created_at'] = pd.to_datetime(repos_df['created_at'])\n",
    "\n",
    "# Filter for repositories created on weekends (Saturday = 5, Sunday = 6)\n",
    "weekend_repos = repos_df[repos_df['created_at'].dt.dayofweek.isin([5, 6])]\n",
    "\n",
    "# Count repositories created by each user\n",
    "repo_count_by_user = weekend_repos['login'].value_counts()\n",
    "\n",
    "# Get the top 5 users who created the most repositories on weekends\n",
    "top_weekend_users = repo_count_by_user.nlargest(5)\n",
    "\n",
    "# Get the logins of the top users, comma-separated\n",
    "top_weekend_user_logins = ','.join(top_weekend_users.index)\n",
    "top_weekend_user_logins\n",
    "\n"
   ]
  },
  {
   "cell_type": "code",
   "execution_count": 30,
   "metadata": {},
   "outputs": [
    {
     "data": {
      "text/plain": [
       "-0.534"
      ]
     },
     "execution_count": 30,
     "metadata": {},
     "output_type": "execute_result"
    }
   ],
   "source": [
    "# Total number of users\n",
    "total_users = users_df.shape[0]\n",
    "\n",
    "# Number of users with email addresses\n",
    "total_users_with_email = users_df[users_df['email'].notna()].shape[0]\n",
    "\n",
    "# Number of hireable users with email addresses\n",
    "hireable_with_email = users_df[(users_df['hireable'] == True) & (users_df['email'].notna())].shape[0]\n",
    "\n",
    "# Number of non-hireable users with email addresses\n",
    "non_hireable_with_email = users_df[(users_df['hireable'] == False) & (users_df['email'].notna())].shape[0]\n",
    "\n",
    "# Calculate the fractions\n",
    "hireable_email_fraction = hireable_with_email / total_users_with_email if total_users_with_email > 0 else 0\n",
    "non_hireable_email_fraction = non_hireable_with_email / total_users_with_email if total_users_with_email > 0 else 0\n",
    "\n",
    "# Calculate the difference\n",
    "email_difference = hireable_email_fraction - non_hireable_email_fraction\n",
    "\n",
    "# Format the result to 3 decimal places\n",
    "formatted_difference = round(email_difference, 3)\n",
    "formatted_difference\n"
   ]
  },
  {
   "cell_type": "code",
   "execution_count": 37,
   "metadata": {},
   "outputs": [
    {
     "name": "stdout",
     "output_type": "stream",
     "text": [
      "surname\n",
      "Simon        3\n",
      "Project      2\n",
      "Synacktiv    2\n",
      "Fontaine     2\n",
      "Gomez        2\n",
      "            ..\n",
      "Tarral       1\n",
      "Renault      1\n",
      "Navratil     1\n",
      "ACIDS        1\n",
      "Thomet       1\n",
      "Name: count, Length: 370, dtype: int64\n"
     ]
    }
   ],
   "source": [
    "# Count occurrences of each surname\n",
    "surname_counts = users_df['surname'].dropna().value_counts()\n",
    "\n",
    "# Print surname counts\n",
    "print(surname_counts)\n"
   ]
  },
  {
   "cell_type": "code",
   "execution_count": 49,
   "metadata": {},
   "outputs": [
    {
     "name": "stdout",
     "output_type": "stream",
     "text": [
      "Most common surname(s): Simon\n"
     ]
    }
   ],
   "source": [
    "#Q16\n",
    "\n",
    "# Extract surnames by splitting the names and taking the last word\n",
    "users_df['surname'] = users_df['name'].str.split().str[-1].str.strip()\n",
    "\n",
    "# Filter out missing surnames\n",
    "surnames = users_df['surname'].dropna()\n",
    "\n",
    "# Count occurrences of each surname\n",
    "surname_counts = surnames.value_counts()\n",
    "\n",
    "# Find the maximum count\n",
    "max_count = surname_counts.max()\n",
    "\n",
    "# Get the most common surnames with the maximum count\n",
    "most_common_surnames = surname_counts[surname_counts == max_count].index.tolist()\n",
    "\n",
    "# Sort the surnames alphabetically\n",
    "most_common_surnames.sort()\n",
    "\n",
    "# Join the surnames into a comma-separated string\n",
    "result = \", \".join(most_common_surnames)\n",
    "\n",
    "# Print the result\n",
    "print(f\"Most common surname(s): {result}\")\n"
   ]
  }
 ],
 "metadata": {
  "kernelspec": {
   "display_name": "Python 3",
   "language": "python",
   "name": "python3"
  },
  "language_info": {
   "codemirror_mode": {
    "name": "ipython",
    "version": 3
   },
   "file_extension": ".py",
   "mimetype": "text/x-python",
   "name": "python",
   "nbconvert_exporter": "python",
   "pygments_lexer": "ipython3",
   "version": "3.12.3"
  }
 },
 "nbformat": 4,
 "nbformat_minor": 2
}
